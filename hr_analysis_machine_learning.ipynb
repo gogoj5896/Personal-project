{
 "cells": [
  {
   "cell_type": "code",
   "execution_count": 93,
   "metadata": {},
   "outputs": [],
   "source": [
    "import tensorflow as tf\n",
    "import numpy as np\n",
    "from sklearn.preprocessing import minmax_scale\n",
    "from sklearn.model_selection import GridSearchCV, cross_val_score, learning_curve\n",
    "from sklearn.cross_validation import StratifiedKFold\n",
    "from sklearn.ensemble import RandomForestClassifier\n",
    "from sklearn.preprocessing import StandardScaler, Normalizer, RobustScaler\n",
    "from sklearn.decomposition import PCA\n",
    "from sklearn.manifold import TSNE, Isomap\n",
    "from sklearn.cluster import KMeans\n",
    "from sklearn import tree\n",
    "from sklearn.tree import DecisionTreeClassifier\n",
    "from IPython.display import Image\n",
    "from sklearn.externals.six import StringIO\n",
    "from sklearn.linear_model import LogisticRegression\n",
    "\n",
    "import pydot"
   ]
  },
  {
   "cell_type": "markdown",
   "metadata": {},
   "source": [
    " "
   ]
  },
  {
   "cell_type": "markdown",
   "metadata": {},
   "source": [
    "# 데이터 처리"
   ]
  },
  {
   "cell_type": "code",
   "execution_count": 36,
   "metadata": {
    "collapsed": true
   },
   "outputs": [],
   "source": [
    "df_hr = pd.read_csv(\"HR_comma_sep.csv\")"
   ]
  },
  {
   "cell_type": "code",
   "execution_count": 37,
   "metadata": {
    "collapsed": true
   },
   "outputs": [],
   "source": [
    "df_hr['sales'].replace(['sales', 'accounting', 'hr', 'technical', 'support', 'management',\n",
    "        'IT', 'product_mng', 'marketing', 'RandD'], [0, 1, 2, 3, 4, 5, 6, 7, 8, 9], inplace = True)\n",
    "df_hr['salary'].replace(['low', 'medium', 'high'], [0, 1, 2], inplace = True)"
   ]
  },
  {
   "cell_type": "code",
   "execution_count": 38,
   "metadata": {
    "scrolled": false
   },
   "outputs": [
    {
     "data": {
      "text/plain": [
       "Index([u'satisfaction_level', u'last_evaluation', u'number_project',\n",
       "       u'average_montly_hours', u'time_spend_company', u'Work_accident',\n",
       "       u'left', u'promotion_last_5years', u'sales', u'salary'],\n",
       "      dtype='object')"
      ]
     },
     "execution_count": 38,
     "metadata": {},
     "output_type": "execute_result"
    }
   ],
   "source": [
    "df_hr.columns"
   ]
  },
  {
   "cell_type": "code",
   "execution_count": 39,
   "metadata": {},
   "outputs": [],
   "source": [
    "df_hr[[u'satisfaction_level', u'last_evaluation', u'number_project',\n",
    "       u'average_montly_hours', u'time_spend_company', u'Work_accident',\n",
    "       u'left', u'promotion_last_5years', u'sales', u'salary']] = minmax_scale(df_hr)"
   ]
  },
  {
   "cell_type": "code",
   "execution_count": 40,
   "metadata": {},
   "outputs": [],
   "source": [
    "label = df_hr['left']"
   ]
  },
  {
   "cell_type": "markdown",
   "metadata": {},
   "source": [
    " "
   ]
  },
  {
   "cell_type": "markdown",
   "metadata": {},
   "source": [
    "# train set과 test set 구분하기"
   ]
  },
  {
   "cell_type": "code",
   "execution_count": 86,
   "metadata": {},
   "outputs": [],
   "source": [
    "from sklearn.model_selection import train_test_split\n",
    "label = df_hr[\"left\"]\n",
    "data = df_hr.drop([\"left\"],axis=1)\n",
    "X_train, X_test, y_train, y_test = train_test_split(data, label, test_size = 0.2, random_state = 42)"
   ]
  },
  {
   "cell_type": "markdown",
   "metadata": {},
   "source": [
    " "
   ]
  },
  {
   "cell_type": "markdown",
   "metadata": {},
   "source": [
    "# logistic regression"
   ]
  },
  {
   "cell_type": "code",
   "execution_count": 87,
   "metadata": {},
   "outputs": [
    {
     "name": "stdout",
     "output_type": "stream",
     "text": [
      "Training score:  0.788732394366\n",
      "Testing score:  0.786666666667\n"
     ]
    }
   ],
   "source": [
    "logis = LogisticRegression()\n",
    "logis.fit(data_train, label_train)\n",
    "logis_score_train = logis.score(X_train, y_train)\n",
    "print(\"Training score: \",logis_score_train)\n",
    "logis_score_test = logis.score(X_test, y_test)\n",
    "print(\"Testing score: \",logis_score_test)"
   ]
  },
  {
   "cell_type": "markdown",
   "metadata": {},
   "source": [
    " "
   ]
  },
  {
   "cell_type": "markdown",
   "metadata": {},
   "source": [
    "# SVC"
   ]
  },
  {
   "cell_type": "code",
   "execution_count": 88,
   "metadata": {},
   "outputs": [
    {
     "name": "stdout",
     "output_type": "stream",
     "text": [
      "Training score:  0.922576881407\n",
      "Testing score:  0.926666666667\n"
     ]
    }
   ],
   "source": [
    "from sklearn.svm import SVC\n",
    "svm = SVC()\n",
    "svm.fit(data_train, label_train)\n",
    "svm_score_train = svm.score(X_train, y_train)\n",
    "print(\"Training score: \",svm_score_train)\n",
    "svm_score_test = svm.score(X_test, y_test)\n",
    "print(\"Testing score: \",svm_score_test)"
   ]
  },
  {
   "cell_type": "markdown",
   "metadata": {},
   "source": [
    " "
   ]
  },
  {
   "cell_type": "markdown",
   "metadata": {},
   "source": [
    "# KNN "
   ]
  },
  {
   "cell_type": "code",
   "execution_count": 89,
   "metadata": {},
   "outputs": [
    {
     "name": "stdout",
     "output_type": "stream",
     "text": [
      "Training score:  0.966580548379\n",
      "Testing score:  0.955666666667\n"
     ]
    }
   ],
   "source": [
    "from sklearn.neighbors import KNeighborsClassifier\n",
    "knn = KNeighborsClassifier()\n",
    "knn.fit(data_train, label_train)\n",
    "knn_score_train = knn.score(X_train, y_train)\n",
    "print(\"Training score: \",knn_score_train)\n",
    "knn_score_test = knn.score(X_test, y_test)\n",
    "print(\"Testing score: \",knn_score_test)"
   ]
  },
  {
   "cell_type": "markdown",
   "metadata": {},
   "source": [
    " "
   ]
  },
  {
   "cell_type": "markdown",
   "metadata": {},
   "source": [
    "# Random forest"
   ]
  },
  {
   "cell_type": "code",
   "execution_count": 90,
   "metadata": {},
   "outputs": [
    {
     "name": "stdout",
     "output_type": "stream",
     "text": [
      "Training score:  0.998083173598\n",
      "Testing score:  0.991\n"
     ]
    }
   ],
   "source": [
    "\n",
    "rfc = RandomForestClassifier()\n",
    "rfc.fit(data_train, label_train)\n",
    "rfc_score_train = rfc.score(X_train, y_train)\n",
    "print(\"Training score: \",rfc_score_train)\n",
    "rfc_score_test = rfc.score(X_test, y_test)\n",
    "print(\"Testing score: \",rfc_score_test)"
   ]
  },
  {
   "cell_type": "markdown",
   "metadata": {},
   "source": [
    " "
   ]
  },
  {
   "cell_type": "markdown",
   "metadata": {},
   "source": [
    "# decision tree"
   ]
  },
  {
   "cell_type": "code",
   "execution_count": 77,
   "metadata": {},
   "outputs": [
    {
     "data": {
      "text/plain": [
       "0.95266297123585952"
      ]
     },
     "execution_count": 77,
     "metadata": {},
     "output_type": "execute_result"
    }
   ],
   "source": [
    "kfold = StratifiedKFold(y_train,n_folds=10,random_state=2)\n",
    "DTC = DecisionTreeClassifier(max_depth=3)\n",
    "cv_results = cross_val_score(DTC,X_train, y_train, cv=kfold, scoring=\"accuracy\")\n",
    "cv_results.mean()"
   ]
  },
  {
   "cell_type": "code",
   "execution_count": 78,
   "metadata": {},
   "outputs": [
    {
     "data": {
      "text/plain": [
       "DecisionTreeClassifier(class_weight=None, criterion='gini', max_depth=3,\n",
       "            max_features=None, max_leaf_nodes=None,\n",
       "            min_impurity_split=1e-07, min_samples_leaf=1,\n",
       "            min_samples_split=2, min_weight_fraction_leaf=0.0,\n",
       "            presort=False, random_state=None, splitter='best')"
      ]
     },
     "execution_count": 78,
     "metadata": {},
     "output_type": "execute_result"
    }
   ],
   "source": [
    "DTC.fit(X_train,y_train)"
   ]
  },
  {
   "cell_type": "code",
   "execution_count": 82,
   "metadata": {},
   "outputs": [
    {
     "data": {
      "image/png": "[encoded data removed]",
      "text/plain": [
       "<IPython.core.display.Image object>"
      ]
     },
     "execution_count": 82,
     "metadata": {},
     "output_type": "execute_result"
    }
   ],
   "source": [
    "dot_data = StringIO()\n",
    "\n",
    "tree.export_graphviz(DTC, out_file=dot_data,feature_names=train_features)\n",
    "\n",
    "graph = pydot.graph_from_dot_data(dot_data.getvalue())[0]\n",
    "graph.set_lwidth(400)\n",
    "graph.set_lheight(300)\n",
    "\n",
    "Image(graph.create_png())\n"
   ]
  },
  {
   "cell_type": "markdown",
   "metadata": {},
   "source": [
    " "
   ]
  },
  {
   "cell_type": "markdown",
   "metadata": {},
   "source": [
    "# Tensor flow(추가필요) - aws익힌 후 다시 "
   ]
  },
  {
   "cell_type": "code",
   "execution_count": 125,
   "metadata": {},
   "outputs": [
    {
     "name": "stdout",
     "output_type": "stream",
     "text": [
      "0 1.29462 [array([[ -4.04654235e-01,  -1.36923417e-02,   4.41459596e-01,\n",
      "         -1.12087750e+00,   2.98734405e-03,  -6.34484589e-02,\n",
      "          1.24599517e-03,   3.36793751e-01,  -1.20441929e-01,\n",
      "         -4.56949949e-01,   8.23922515e-01,   1.60801578e-02,\n",
      "          7.46848226e-01,   2.87793845e-01,  -1.02348246e-01,\n",
      "          2.72936165e-01,   2.54589021e-01,  -1.55586278e+00,\n",
      "         -3.18707556e-01,   6.73712134e-01],\n",
      "       [  1.60097146e+00,  -6.26823366e-01,   1.37912050e-01,\n",
      "          9.04105425e-01,  -1.10845304e+00,  -2.06130338e+00,\n",
      "         -1.35701165e-01,  -6.89234316e-01,   9.12171841e-01,\n",
      "         -1.34015039e-01,   1.28139302e-01,  -9.80359912e-01,\n",
      "         -8.95268738e-01,  -4.97140527e-01,   5.66384047e-02,\n",
      "          1.63042748e+00,  -9.34898019e-01,  -1.11055881e-01,\n",
      "         -2.22753152e-01,   5.35142601e-01],\n",
      "       [ -5.16770899e-01,   8.21863592e-01,  -1.43690157e+00,\n",
      "         -2.03446850e-01,  -6.79149568e-01,   3.22859144e+00,\n",
      "         -1.15570672e-01,  -2.31741238e+00,  -1.61727905e+00,\n",
      "         -2.64904356e+00,   5.37651658e-01,  -1.60712802e+00,\n",
      "          1.58498704e+00,  -1.28458238e+00,   5.83888531e-01,\n",
      "         -1.28897357e+00,   8.06036234e-01,  -8.22149158e-01,\n",
      "          2.53860265e-01,   1.95394564e+00],\n",
      "       [ -2.59555817e-01,  -2.60293186e-01,  -7.73727357e-01,\n",
      "          2.37555981e-01,  -7.89653838e-01,  -6.55565023e-01,\n",
      "          9.16130245e-01,   6.43351972e-01,   3.78563076e-01,\n",
      "         -9.47262347e-01,   6.38256609e-01,   7.09975541e-01,\n",
      "         -7.60949329e-02,  -1.18509626e+00,  -6.06837928e-01,\n",
      "         -1.25057805e+00,   5.42076528e-01,   1.75820780e+00,\n",
      "          1.06675100e+00,   2.16486835e+00],\n",
      "       [ -1.04747379e+00,   2.47194335e-01,   8.28040421e-01,\n",
      "         -6.69648886e-01,   1.30376771e-01,   5.41671515e-01,\n",
      "          6.44077361e-01,  -7.86949098e-01,  -1.88906825e+00,\n",
      "          6.16266549e-01,  -5.20638108e-01,   2.01219344e+00,\n",
      "         -7.95305789e-01,   7.87940025e-01,   8.41113508e-01,\n",
      "         -1.51113617e+00,   2.10054144e-01,  -1.49890661e+00,\n",
      "          2.09134579e+00,  -4.50235218e-01],\n",
      "       [ -6.14991188e-01,   9.88833129e-01,   1.69022352e-01,\n",
      "         -1.13259256e-01,   8.01697671e-01,  -6.37968928e-02,\n",
      "         -3.16161513e+00,  -8.00832808e-01,  -1.46113169e+00,\n",
      "         -1.06534588e+00,  -5.17933667e-01,  -2.12038666e-01,\n",
      "         -9.65493083e-01,  -7.33281434e-01,  -7.16856837e-01,\n",
      "         -1.50728977e+00,  -1.19511330e+00,   9.64048088e-01,\n",
      "          1.39425182e+00,   2.61699706e-01],\n",
      "       [ -1.42981458e+00,  -1.95554423e+00,  -7.17165470e-01,\n",
      "          2.66275263e+00,   9.63695228e-01,   8.14115182e-02,\n",
      "         -5.10018229e-01,  -6.25990629e-01,   7.20300078e-01,\n",
      "         -5.68964243e-01,   5.02285480e-01,   2.32792783e+00,\n",
      "          4.09857810e-01,  -2.54066199e-01,   1.62376499e+00,\n",
      "         -8.62193227e-01,   3.73891383e-01,   1.91889834e+00,\n",
      "         -1.06765151e+00,  -1.12728524e+00],\n",
      "       [ -9.03379381e-01,   2.30530334e+00,  -1.11752295e+00,\n",
      "          1.35251999e+00,  -5.46374679e-01,  -4.85190600e-01,\n",
      "          8.10924113e-01,  -2.60510743e-01,  -2.39306420e-01,\n",
      "         -6.98311031e-01,  -1.48171151e+00,  -9.53139961e-01,\n",
      "         -2.52451956e-01,  -9.64276493e-02,   7.89981410e-02,\n",
      "         -9.29374337e-01,   1.99604928e+00,   1.94774055e+00,\n",
      "         -1.70822814e-01,  -2.40377948e-01],\n",
      "       [ -3.91206175e-01,   2.31684661e+00,   9.99403179e-01,\n",
      "         -1.23264678e-02,   2.63444155e-01,  -1.12319493e+00,\n",
      "          5.75805545e-01,  -7.49538839e-02,   6.74228296e-02,\n",
      "         -1.53050971e+00,  -1.01493120e+00,  -6.11859381e-01,\n",
      "          9.05596614e-01,  -1.03123593e+00,   6.76260591e-01,\n",
      "         -2.54506469e-01,   1.35094082e+00,   1.00194168e+00,\n",
      "          5.99184453e-01,  -5.64840250e-02]], dtype=float32), array([[-2.90171576],\n",
      "       [-1.10061991],\n",
      "       [ 0.73317295],\n",
      "       [-1.34575737],\n",
      "       [-0.34284595],\n",
      "       [ 1.10761571],\n",
      "       [-0.13407892],\n",
      "       [-0.44584519],\n",
      "       [ 0.31131735],\n",
      "       [-2.84189796],\n",
      "       [-0.19296132],\n",
      "       [-1.94973814],\n",
      "       [-0.39753723],\n",
      "       [-1.28772116],\n",
      "       [-1.09052396],\n",
      "       [ 0.84900624],\n",
      "       [-0.44964746],\n",
      "       [-0.7194277 ],\n",
      "       [ 0.80507869],\n",
      "       [ 1.47477829]], dtype=float32)]\n",
      "10 0.806945 [array([[ -4.76632804e-01,  -3.75764035e-02,   4.61616576e-01,\n",
      "         -1.15871501e+00,  -2.63016229e-03,  -3.77256908e-02,\n",
      "          6.25533634e-04,   3.25630546e-01,  -1.12666458e-01,\n",
      "         -4.65063810e-01,   8.19615602e-01,  -3.49075384e-02,\n",
      "          7.38555312e-01,   2.54980654e-01,  -1.29874006e-01,\n",
      "          2.92095244e-01,   2.51896262e-01,  -1.57330394e+00,\n",
      "         -3.08486879e-01,   7.03598142e-01],\n",
      "       [  1.52688897e+00,  -6.50333166e-01,   1.57865107e-01,\n",
      "          8.67491484e-01,  -1.11322081e+00,  -2.03617668e+00,\n",
      "         -1.36282146e-01,  -6.99999690e-01,   9.19695199e-01,\n",
      "         -1.41100898e-01,   1.23980440e-01,  -1.03109014e+00,\n",
      "         -9.03601825e-01,  -5.26895046e-01,   3.03830523e-02,\n",
      "          1.64899731e+00,  -9.37626541e-01,  -1.27669498e-01,\n",
      "         -2.13535920e-01,   5.61642289e-01],\n",
      "       [ -5.61521530e-01,   8.07250381e-01,  -1.42342639e+00,\n",
      "         -2.26674169e-01,  -6.82128131e-01,   3.24125409e+00,\n",
      "         -1.15939468e-01,  -2.32433820e+00,  -1.61301470e+00,\n",
      "         -2.65209723e+00,   5.34963846e-01,  -1.64029431e+00,\n",
      "          1.58002710e+00,  -1.30255938e+00,   5.67476094e-01,\n",
      "         -1.27875066e+00,   8.04510057e-01,  -8.32730412e-01,\n",
      "          2.59246737e-01,   1.96882796e+00],\n",
      "       [ -3.21878821e-01,  -2.80916691e-01,  -7.55704761e-01,\n",
      "          2.05309674e-01,  -7.93973863e-01,  -6.34687483e-01,\n",
      "          9.15634334e-01,   6.33947670e-01,   3.85061949e-01,\n",
      "         -9.53199863e-01,   6.34557962e-01,   6.66193962e-01,\n",
      "         -8.32891017e-02,  -1.21082389e+00,  -6.30362749e-01,\n",
      "         -1.23576009e+00,   5.39875805e-01,   1.74372292e+00,\n",
      "          1.07426834e+00,   2.18679070e+00],\n",
      "       [ -1.06974077e+00,   2.39497855e-01,   8.34466755e-01,\n",
      "         -6.81736290e-01,   1.28602788e-01,   5.49182057e-01,\n",
      "          6.43888891e-01,  -7.90530562e-01,  -1.88694346e+00,\n",
      "          6.13530517e-01,  -5.21994293e-01,   1.99695468e+00,\n",
      "         -7.98144460e-01,   7.77521312e-01,   8.32795799e-01,\n",
      "         -1.50591612e+00,   2.09215984e-01,  -1.50446582e+00,\n",
      "          2.09374809e+00,  -4.40593958e-01],\n",
      "       [ -6.28732920e-01,   9.84463394e-01,   1.73753768e-01,\n",
      "         -1.22350417e-01,   7.99739301e-01,  -5.76193780e-02,\n",
      "         -3.16196299e+00,  -8.03525925e-01,  -1.46028006e+00,\n",
      "         -1.06614327e+00,  -5.18868208e-01,  -2.24676266e-01,\n",
      "         -9.67907488e-01,  -7.39444077e-01,  -7.24417686e-01,\n",
      "         -1.50530863e+00,  -1.19640446e+00,   9.60508645e-01,\n",
      "          1.39509010e+00,   2.68531412e-01],\n",
      "       [ -1.43085742e+00,  -1.95649815e+00,  -7.16288686e-01,\n",
      "          2.66225171e+00,   9.63346720e-01,   8.24150890e-02,\n",
      "         -5.10046721e-01,  -6.26413465e-01,   7.20637083e-01,\n",
      "         -5.69108129e-01,   5.02120614e-01,   2.32737374e+00,\n",
      "          4.09586042e-01,  -2.55125731e-01,   1.62337697e+00,\n",
      "         -8.61821353e-01,   3.73818547e-01,   1.91859376e+00,\n",
      "         -1.06704390e+00,  -1.12565804e+00],\n",
      "       [ -9.46646452e-01,   2.29220867e+00,  -1.10313940e+00,\n",
      "          1.32792473e+00,  -5.49741685e-01,  -4.68222290e-01,\n",
      "          8.10564041e-01,  -2.67696410e-01,  -2.34430373e-01,\n",
      "         -7.03073442e-01,  -1.48424375e+00,  -9.87946928e-01,\n",
      "         -2.58061379e-01,  -1.17117524e-01,   6.13510348e-02,\n",
      "         -9.18550193e-01,   1.99494350e+00,   1.93732560e+00,\n",
      "         -1.64191991e-01,  -2.20033005e-01],\n",
      "       [ -4.26461726e-01,   2.30715370e+00,   1.00882030e+00,\n",
      "         -3.17985676e-02,   2.60337591e-01,  -1.10847580e+00,\n",
      "          5.75515747e-01,  -8.06878507e-02,   7.14239180e-02,\n",
      "         -1.53313267e+00,  -1.01697457e+00,  -6.38905108e-01,\n",
      "          9.01676357e-01,  -1.04614675e+00,   6.63352251e-01,\n",
      "         -2.45381474e-01,   1.35001278e+00,   9.93433952e-01,\n",
      "          6.03575826e-01,  -4.02878001e-02]], dtype=float32), array([[-2.83322072],\n",
      "       [-0.95428514],\n",
      "       [ 0.88379365],\n",
      "       [-1.23612511],\n",
      "       [-0.30404875],\n",
      "       [ 1.27599645],\n",
      "       [ 0.05243142],\n",
      "       [-0.32323036],\n",
      "       [ 0.36897191],\n",
      "       [-2.83605099],\n",
      "       [-0.10499337],\n",
      "       [-1.80955374],\n",
      "       [-0.2460738 ],\n",
      "       [-1.21420407],\n",
      "       [-0.93954158],\n",
      "       [ 0.90344703],\n",
      "       [-0.24206127],\n",
      "       [-0.59254998],\n",
      "       [ 1.00566041],\n",
      "       [ 1.64489019]], dtype=float32)]\n"
     ]
    },
    {
     "ename": "KeyboardInterrupt",
     "evalue": "",
     "output_type": "error",
     "traceback": [
      "\u001b[0;31m\u001b[0m",
      "\u001b[0;31mKeyboardInterrupt\u001b[0mTraceback (most recent call last)",
      "\u001b[0;32m<ipython-input-125-902ae9d84386>\u001b[0m in \u001b[0;36m<module>\u001b[0;34m()\u001b[0m\n\u001b[1;32m     36\u001b[0m \u001b[0;34m\u001b[0m\u001b[0m\n\u001b[1;32m     37\u001b[0m     \u001b[0;32mfor\u001b[0m \u001b[0mstep\u001b[0m \u001b[0;32min\u001b[0m \u001b[0mrange\u001b[0m\u001b[0;34m(\u001b[0m\u001b[0;36m100\u001b[0m\u001b[0;34m)\u001b[0m\u001b[0;34m:\u001b[0m\u001b[0;34m\u001b[0m\u001b[0m\n\u001b[0;32m---> 38\u001b[0;31m         \u001b[0msess\u001b[0m\u001b[0;34m.\u001b[0m\u001b[0mrun\u001b[0m\u001b[0;34m(\u001b[0m\u001b[0mtrain\u001b[0m\u001b[0;34m,\u001b[0m \u001b[0mfeed_dict\u001b[0m\u001b[0;34m=\u001b[0m\u001b[0;34m{\u001b[0m\u001b[0mX\u001b[0m\u001b[0;34m:\u001b[0m \u001b[0mx_data\u001b[0m\u001b[0;34m,\u001b[0m \u001b[0mY\u001b[0m\u001b[0;34m:\u001b[0m \u001b[0my_data\u001b[0m\u001b[0;34m}\u001b[0m\u001b[0;34m)\u001b[0m\u001b[0;34m\u001b[0m\u001b[0m\n\u001b[0m\u001b[1;32m     39\u001b[0m         \u001b[0;32mif\u001b[0m \u001b[0mstep\u001b[0m \u001b[0;34m%\u001b[0m \u001b[0;36m10\u001b[0m \u001b[0;34m==\u001b[0m \u001b[0;36m0\u001b[0m\u001b[0;34m:\u001b[0m\u001b[0;34m\u001b[0m\u001b[0m\n\u001b[1;32m     40\u001b[0m             print(step, sess.run(cost, feed_dict={\n",
      "\u001b[0;32m/home/dockeruser/anaconda2/lib/python2.7/site-packages/tensorflow/python/client/session.pyc\u001b[0m in \u001b[0;36mrun\u001b[0;34m(self, fetches, feed_dict, options, run_metadata)\u001b[0m\n\u001b[1;32m    776\u001b[0m     \u001b[0;32mtry\u001b[0m\u001b[0;34m:\u001b[0m\u001b[0;34m\u001b[0m\u001b[0m\n\u001b[1;32m    777\u001b[0m       result = self._run(None, fetches, feed_dict, options_ptr,\n\u001b[0;32m--> 778\u001b[0;31m                          run_metadata_ptr)\n\u001b[0m\u001b[1;32m    779\u001b[0m       \u001b[0;32mif\u001b[0m \u001b[0mrun_metadata\u001b[0m\u001b[0;34m:\u001b[0m\u001b[0;34m\u001b[0m\u001b[0m\n\u001b[1;32m    780\u001b[0m         \u001b[0mproto_data\u001b[0m \u001b[0;34m=\u001b[0m \u001b[0mtf_session\u001b[0m\u001b[0;34m.\u001b[0m\u001b[0mTF_GetBuffer\u001b[0m\u001b[0;34m(\u001b[0m\u001b[0mrun_metadata_ptr\u001b[0m\u001b[0;34m)\u001b[0m\u001b[0;34m\u001b[0m\u001b[0m\n",
      "\u001b[0;32m/home/dockeruser/anaconda2/lib/python2.7/site-packages/tensorflow/python/client/session.pyc\u001b[0m in \u001b[0;36m_run\u001b[0;34m(self, handle, fetches, feed_dict, options, run_metadata)\u001b[0m\n\u001b[1;32m    980\u001b[0m     \u001b[0;32mif\u001b[0m \u001b[0mfinal_fetches\u001b[0m \u001b[0;32mor\u001b[0m \u001b[0mfinal_targets\u001b[0m\u001b[0;34m:\u001b[0m\u001b[0;34m\u001b[0m\u001b[0m\n\u001b[1;32m    981\u001b[0m       results = self._do_run(handle, final_targets, final_fetches,\n\u001b[0;32m--> 982\u001b[0;31m                              feed_dict_string, options, run_metadata)\n\u001b[0m\u001b[1;32m    983\u001b[0m     \u001b[0;32melse\u001b[0m\u001b[0;34m:\u001b[0m\u001b[0;34m\u001b[0m\u001b[0m\n\u001b[1;32m    984\u001b[0m       \u001b[0mresults\u001b[0m \u001b[0;34m=\u001b[0m \u001b[0;34m[\u001b[0m\u001b[0;34m]\u001b[0m\u001b[0;34m\u001b[0m\u001b[0m\n",
      "\u001b[0;32m/home/dockeruser/anaconda2/lib/python2.7/site-packages/tensorflow/python/client/session.pyc\u001b[0m in \u001b[0;36m_do_run\u001b[0;34m(self, handle, target_list, fetch_list, feed_dict, options, run_metadata)\u001b[0m\n\u001b[1;32m   1030\u001b[0m     \u001b[0;32mif\u001b[0m \u001b[0mhandle\u001b[0m \u001b[0;32mis\u001b[0m \u001b[0mNone\u001b[0m\u001b[0;34m:\u001b[0m\u001b[0;34m\u001b[0m\u001b[0m\n\u001b[1;32m   1031\u001b[0m       return self._do_call(_run_fn, self._session, feed_dict, fetch_list,\n\u001b[0;32m-> 1032\u001b[0;31m                            target_list, options, run_metadata)\n\u001b[0m\u001b[1;32m   1033\u001b[0m     \u001b[0;32melse\u001b[0m\u001b[0;34m:\u001b[0m\u001b[0;34m\u001b[0m\u001b[0m\n\u001b[1;32m   1034\u001b[0m       return self._do_call(_prun_fn, self._session, handle, feed_dict,\n",
      "\u001b[0;32m/home/dockeruser/anaconda2/lib/python2.7/site-packages/tensorflow/python/client/session.pyc\u001b[0m in \u001b[0;36m_do_call\u001b[0;34m(self, fn, *args)\u001b[0m\n\u001b[1;32m   1037\u001b[0m   \u001b[0;32mdef\u001b[0m \u001b[0m_do_call\u001b[0m\u001b[0;34m(\u001b[0m\u001b[0mself\u001b[0m\u001b[0;34m,\u001b[0m \u001b[0mfn\u001b[0m\u001b[0;34m,\u001b[0m \u001b[0;34m*\u001b[0m\u001b[0margs\u001b[0m\u001b[0;34m)\u001b[0m\u001b[0;34m:\u001b[0m\u001b[0;34m\u001b[0m\u001b[0m\n\u001b[1;32m   1038\u001b[0m     \u001b[0;32mtry\u001b[0m\u001b[0;34m:\u001b[0m\u001b[0;34m\u001b[0m\u001b[0m\n\u001b[0;32m-> 1039\u001b[0;31m       \u001b[0;32mreturn\u001b[0m \u001b[0mfn\u001b[0m\u001b[0;34m(\u001b[0m\u001b[0;34m*\u001b[0m\u001b[0margs\u001b[0m\u001b[0;34m)\u001b[0m\u001b[0;34m\u001b[0m\u001b[0m\n\u001b[0m\u001b[1;32m   1040\u001b[0m     \u001b[0;32mexcept\u001b[0m \u001b[0merrors\u001b[0m\u001b[0;34m.\u001b[0m\u001b[0mOpError\u001b[0m \u001b[0;32mas\u001b[0m \u001b[0me\u001b[0m\u001b[0;34m:\u001b[0m\u001b[0;34m\u001b[0m\u001b[0m\n\u001b[1;32m   1041\u001b[0m       \u001b[0mmessage\u001b[0m \u001b[0;34m=\u001b[0m \u001b[0mcompat\u001b[0m\u001b[0;34m.\u001b[0m\u001b[0mas_text\u001b[0m\u001b[0;34m(\u001b[0m\u001b[0me\u001b[0m\u001b[0;34m.\u001b[0m\u001b[0mmessage\u001b[0m\u001b[0;34m)\u001b[0m\u001b[0;34m\u001b[0m\u001b[0m\n",
      "\u001b[0;32m/home/dockeruser/anaconda2/lib/python2.7/site-packages/tensorflow/python/client/session.pyc\u001b[0m in \u001b[0;36m_run_fn\u001b[0;34m(session, feed_dict, fetch_list, target_list, options, run_metadata)\u001b[0m\n\u001b[1;32m   1019\u001b[0m         return tf_session.TF_Run(session, options,\n\u001b[1;32m   1020\u001b[0m                                  \u001b[0mfeed_dict\u001b[0m\u001b[0;34m,\u001b[0m \u001b[0mfetch_list\u001b[0m\u001b[0;34m,\u001b[0m \u001b[0mtarget_list\u001b[0m\u001b[0;34m,\u001b[0m\u001b[0;34m\u001b[0m\u001b[0m\n\u001b[0;32m-> 1021\u001b[0;31m                                  status, run_metadata)\n\u001b[0m\u001b[1;32m   1022\u001b[0m \u001b[0;34m\u001b[0m\u001b[0m\n\u001b[1;32m   1023\u001b[0m     \u001b[0;32mdef\u001b[0m \u001b[0m_prun_fn\u001b[0m\u001b[0;34m(\u001b[0m\u001b[0msession\u001b[0m\u001b[0;34m,\u001b[0m \u001b[0mhandle\u001b[0m\u001b[0;34m,\u001b[0m \u001b[0mfeed_dict\u001b[0m\u001b[0;34m,\u001b[0m \u001b[0mfetch_list\u001b[0m\u001b[0;34m)\u001b[0m\u001b[0;34m:\u001b[0m\u001b[0;34m\u001b[0m\u001b[0m\n",
      "\u001b[0;31mKeyboardInterrupt\u001b[0m: "
     ]
    }
   ],
   "source": [
    "tf.set_random_seed(777)  # for reproducibility\n",
    "learning_rate = 0.1\n",
    "\n",
    "x_data = X_train\n",
    "y_data = y_train\n",
    "\n",
    "x_data = np.array(x_data, dtype=np.float32)\n",
    "y_data = np.array(y_data, dtype=np.float32)\n",
    "\n",
    "X = tf.placeholder(tf.float32, [None, 9])\n",
    "Y = tf.placeholder(tf.float32, [None])\n",
    "\n",
    "W1 = tf.Variable(tf.random_normal([9, 20]), name='weight1')\n",
    "b1 = tf.Variable(tf.random_normal([20]), name='bias1')\n",
    "layer2 = tf.nn.sigmoid(tf.matmul(X, W1) + b1)\n",
    "\n",
    "W2 = tf.Variable(tf.random_normal([20, 1]), name='weight2')\n",
    "b2 = tf.Variable(tf.random_normal([1]), name='bias2')\n",
    "hypothesis = tf.nn.sigmoid(tf.matmul(layer2, W2) + b2)\n",
    "\n",
    "# cost/loss function\n",
    "cost = -tf.reduce_mean(Y * tf.log(hypothesis) + (1 - Y) *\n",
    "                       tf.log(1 - hypothesis))\n",
    "\n",
    "train = tf.train.GradientDescentOptimizer(learning_rate=learning_rate).minimize(cost)\n",
    "\n",
    "# Accuracy computation\n",
    "# True if hypothesis>0.5 else False\n",
    "predicted = tf.cast(hypothesis > 0.5, dtype=tf.float32)\n",
    "accuracy = tf.reduce_mean(tf.cast(tf.equal(predicted, Y), dtype=tf.float32))\n",
    "\n",
    "# Launch graph\n",
    "with tf.Session() as sess:\n",
    "    # Initialize TensorFlow variables\n",
    "    sess.run(tf.global_variables_initializer())\n",
    "\n",
    "    for step in range(100):\n",
    "        sess.run(train, feed_dict={X: x_data, Y: y_data})\n",
    "        if step % 10 == 0:\n",
    "            print(step, sess.run(cost, feed_dict={\n",
    "                  X: x_data, Y: y_data}), sess.run([W1, W2]))\n",
    "\n",
    "    # Accuracy report\n",
    "    h, c, a = sess.run([hypothesis, predicted, accuracy],\n",
    "                       feed_dict={X: x_data, Y: y_data})\n",
    "    print(\"\\nAccuracy: \", a)"
   ]
  },
  {
   "cell_type": "code",
   "execution_count": null,
   "metadata": {
    "collapsed": true
   },
   "outputs": [],
   "source": [
    "from sklearn.naive_bayes import MultinomialNB"
   ]
  },
  {
   "cell_type": "code",
   "execution_count": null,
   "metadata": {
    "collapsed": true
   },
   "outputs": [],
   "source": []
  }
 ],
 "metadata": {
  "kernelspec": {
   "display_name": "Python 2",
   "language": "python",
   "name": "python2"
  },
  "language_info": {
   "codemirror_mode": {
    "name": "ipython",
    "version": 2
   },
   "file_extension": ".py",
   "mimetype": "text/x-python",
   "name": "python",
   "nbconvert_exporter": "python",
   "pygments_lexer": "ipython2",
   "version": "2.7.13"
  }
 },
 "nbformat": 4,
 "nbformat_minor": 2
}
